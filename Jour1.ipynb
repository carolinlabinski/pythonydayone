{
 "cells": [
  {
   "cell_type": "code",
   "execution_count": 6,
   "id": "b18760aa",
   "metadata": {},
   "outputs": [
    {
     "name": "stdout",
     "output_type": "stream",
     "text": [
      "h\n",
      "10\n"
     ]
    }
   ],
   "source": [
    "bonjour = \"hello world\"\n",
    "print(bonjour[0])\n",
    "print(len(bonjour)-1)"
   ]
  },
  {
   "cell_type": "code",
   "execution_count": 8,
   "id": "9327f768",
   "metadata": {},
   "outputs": [
    {
     "name": "stdout",
     "output_type": "stream",
     "text": [
      "hel\n"
     ]
    }
   ],
   "source": [
    "bonjour = \"hello world\"\n",
    "\n",
    "print(bonjour[0:3])"
   ]
  },
  {
   "cell_type": "code",
   "execution_count": 9,
   "id": "073fe51f",
   "metadata": {},
   "outputs": [
    {
     "name": "stdout",
     "output_type": "stream",
     "text": [
      "lo worl\n"
     ]
    }
   ],
   "source": [
    "bonjour = \"hello world\"\n",
    "\n",
    "print(bonjour[3:10])"
   ]
  },
  {
   "cell_type": "code",
   "execution_count": 16,
   "id": "f88bc1d5",
   "metadata": {},
   "outputs": [
    {
     "name": "stdout",
     "output_type": "stream",
     "text": [
      "True\n"
     ]
    }
   ],
   "source": [
    "bonjour = \"hello world\"\n",
    "print(bonjour.startswith(\"hel\"))"
   ]
  },
  {
   "cell_type": "code",
   "execution_count": 21,
   "id": "79115f3f",
   "metadata": {},
   "outputs": [
    {
     "name": "stdout",
     "output_type": "stream",
     "text": [
      "Quel est ton nom, cher(e) inconnu(e) ?Caro\n",
      "Hello Caro\n"
     ]
    }
   ],
   "source": [
    "name = input('Quel est ton nom, cher(e) inconnu(e) ?')\n",
    "def showName(name):\n",
    "    print(\"Hello\", name)\n",
    "    \n",
    "showName(name)"
   ]
  },
  {
   "cell_type": "code",
   "execution_count": 30,
   "id": "5cd53b83",
   "metadata": {},
   "outputs": [
    {
     "name": "stdout",
     "output_type": "stream",
     "text": [
      "Quel est ton age?11\n",
      "Vous etes mineur\n"
     ]
    }
   ],
   "source": [
    "ageInput = input('Quel est ton age?')\n",
    "age = int(ageInput)\n",
    "def showAge(age):\n",
    "    if age > 18:\n",
    "        print(\"Vous etes majeur!\")\n",
    "    else:\n",
    "        print(\"Vous etes mineur\")\n",
    "    \n",
    "showAge(age)"
   ]
  },
  {
   "cell_type": "code",
   "execution_count": null,
   "id": "cb8f59fb",
   "metadata": {},
   "outputs": [],
   "source": []
  },
  {
   "cell_type": "code",
   "execution_count": 34,
   "id": "91f15948",
   "metadata": {},
   "outputs": [
    {
     "name": "stdout",
     "output_type": "stream",
     "text": [
      "Saisi un chiffre:9\n",
      "a  est impair\n"
     ]
    }
   ],
   "source": [
    "nombreInput = input('Saisi un chiffre:')\n",
    "a = int(nombreInput)\n",
    "def showNombre(a):\n",
    "    if (a % 2) == 0:\n",
    "        print(\"a est pair\")\n",
    "    else:\n",
    "        print(\"a  est impair\")\n",
    "    \n",
    "showNombre(a)"
   ]
  },
  {
   "cell_type": "code",
   "execution_count": 51,
   "id": "eb7f478d",
   "metadata": {},
   "outputs": [
    {
     "name": "stdout",
     "output_type": "stream",
     "text": [
      "Test\n",
      "Test\n",
      "3\n",
      "Test\n",
      "5\n",
      "6\n",
      "Test\n",
      "Test\n",
      "9\n",
      "10\n",
      "Test\n",
      "[3, 5, 6, 9, 10]\n"
     ]
    }
   ],
   "source": [
    "liste = []\n",
    "for i in range(1,12,1):\n",
    "    if (i % 3 == 0) or (i % 5 == 0):\n",
    "        print(i)\n",
    "        liste.append(i)\n",
    "        \n",
    "    else:\n",
    "        print(\"Test\")\n",
    "        \n",
    "print(liste)"
   ]
  },
  {
   "cell_type": "code",
   "execution_count": 59,
   "id": "7c32402c",
   "metadata": {},
   "outputs": [
    {
     "name": "stdout",
     "output_type": "stream",
     "text": [
      "[3, 5, 6, 9, 10, 12, 15, 18, 20, 21, 24, 25, 27, 30, 33, 35, 36, 39, 40, 42, 45, 48, 50, 51, 54, 55, 57, 60, 63, 65, 66, 69, 70, 72, 75, 78, 80, 81, 84, 85, 87, 90, 93, 95, 96, 99, 100, 102, 105, 108, 110, 111, 114, 115, 117, 120, 123, 125, 126, 129, 130, 132, 135, 138, 140, 141, 144, 145, 147, 150, 153, 155, 156, 159, 160, 162, 165, 168, 170, 171, 174, 175, 177, 180, 183, 185, 186, 189, 190, 192, 195, 198, 200, 201, 204, 205, 207, 210, 213, 215, 216, 219, 220, 222, 225, 228, 230, 231, 234, 235, 237, 240, 243, 245, 246, 249, 250, 252, 255, 258, 260, 261, 264, 265, 267, 270, 273, 275, 276, 279, 280, 282, 285, 288, 290, 291, 294, 295, 297, 300, 303, 305, 306, 309, 310, 312, 315, 318, 320, 321, 324, 325, 327, 330, 333, 335, 336, 339, 340, 342, 345, 348, 350, 351, 354, 355, 357, 360, 363, 365, 366, 369, 370, 372, 375, 378, 380, 381, 384, 385, 387, 390, 393, 395, 396, 399, 400, 402, 405, 408, 410, 411, 414, 415, 417, 420, 423, 425, 426, 429, 430, 432, 435, 438, 440, 441, 444, 445, 447, 450, 453, 455, 456, 459, 460, 462, 465, 468, 470, 471, 474, 475, 477, 480, 483, 485, 486, 489, 490, 492, 495, 498, 500, 501, 504, 505, 507, 510, 513, 515, 516, 519, 520, 522, 525, 528, 530, 531, 534, 535, 537, 540, 543, 545, 546, 549, 550, 552, 555, 558, 560, 561, 564, 565, 567, 570, 573, 575, 576, 579, 580, 582, 585, 588, 590, 591, 594, 595, 597, 600, 603, 605, 606, 609, 610, 612, 615, 618, 620, 621, 624, 625, 627, 630, 633, 635, 636, 639, 640, 642, 645, 648, 650, 651, 654, 655, 657, 660, 663, 665, 666, 669, 670, 672, 675, 678, 680, 681, 684, 685, 687, 690, 693, 695, 696, 699, 700, 702, 705, 708, 710, 711, 714, 715, 717, 720, 723, 725, 726, 729, 730, 732, 735, 738, 740, 741, 744, 745, 747, 750, 753, 755, 756, 759, 760, 762, 765, 768, 770, 771, 774, 775, 777, 780, 783, 785, 786, 789, 790, 792, 795, 798, 800, 801, 804, 805, 807, 810, 813, 815, 816, 819, 820, 822, 825, 828, 830, 831, 834, 835, 837, 840, 843, 845, 846, 849, 850, 852, 855, 858, 860, 861, 864, 865, 867, 870, 873, 875, 876, 879, 880, 882, 885, 888, 890, 891, 894, 895, 897, 900, 903, 905, 906, 909, 910, 912, 915, 918, 920, 921, 924, 925, 927, 930, 933, 935, 936, 939, 940, 942, 945, 948, 950, 951, 954, 955, 957, 960, 963, 965, 966, 969, 970, 972, 975, 978, 980, 981, 984, 985, 987, 990, 993, 995, 996, 999]\n",
      "Summe 233168\n",
      "resultat 233168\n"
     ]
    }
   ],
   "source": [
    "liste = []\n",
    "resultat = 0\n",
    "for i in range(1,1000,1):\n",
    "    if (i % 3 == 0) or (i % 5 == 0):\n",
    "        liste.append(i)\n",
    "        resultat += i\n",
    "        \n",
    "print(liste)\n",
    "print(\"Summe\", sum(liste))\n",
    "print(\"resultat\",resultat)\n"
   ]
  },
  {
   "cell_type": "code",
   "execution_count": 58,
   "id": "ae6ab050",
   "metadata": {},
   "outputs": [
    {
     "name": "stdout",
     "output_type": "stream",
     "text": [
      "233168\n"
     ]
    }
   ],
   "source": [
    "resultat = 0\n",
    "for i in range(1, 1000):\n",
    "    if i%3 == 0 or i%5 == 0:\n",
    "        resultat += i\n",
    "print(resultat)"
   ]
  },
  {
   "cell_type": "code",
   "execution_count": 81,
   "id": "3753bdbb",
   "metadata": {},
   "outputs": [
    {
     "name": "stdout",
     "output_type": "stream",
     "text": [
      "w\n",
      "h\n",
      "a\n",
      "t\n",
      " \n",
      "a\n",
      " \n",
      "s\n",
      "t\n",
      "r\n",
      "i\n",
      "n\n",
      "g\n"
     ]
    }
   ],
   "source": [
    "\n",
    "def cesar_cipher(string,cle):\n",
    "\n",
    "    for elt in string:\n",
    "        print(elt)\n",
    " \n",
    "    \n",
    "cesar_cipher(\"what a string\",3)"
   ]
  },
  {
   "cell_type": "code",
   "execution_count": 128,
   "id": "1529108a",
   "metadata": {},
   "outputs": [
    {
     "name": "stdout",
     "output_type": "stream",
     "text": [
      "92\n",
      "\\\n",
      "109\n",
      "m\n",
      "102\n",
      "f\n",
      "121\n",
      "y\n",
      "37\n",
      "%\n",
      "102\n",
      "f\n",
      "37\n",
      "%\n",
      "120\n",
      "x\n",
      "121\n",
      "y\n",
      "119\n",
      "w\n",
      "110\n",
      "n\n",
      "115\n",
      "s\n",
      "108\n",
      "l\n"
     ]
    }
   ],
   "source": [
    "def cesar_cipher(string,cle):\n",
    "    for element in string:\n",
    "        newLetter= ord(element) + 5\n",
    "        #print(element)\n",
    "        print(newLetter)\n",
    "        print(chr(newLetter))\n",
    "\n",
    "cesar_cipher(\"What a string\",5)\n"
   ]
  },
  {
   "cell_type": "code",
   "execution_count": 121,
   "id": "25cb6697",
   "metadata": {},
   "outputs": [
    {
     "name": "stdout",
     "output_type": "stream",
     "text": [
      "w\n",
      "h\n",
      "a\n",
      "t\n",
      " \n",
      "a\n",
      " \n",
      "s\n",
      "t\n",
      "r\n",
      "i\n",
      "n\n",
      "g\n"
     ]
    }
   ],
   "source": [
    "def cesar_cipher(string,cle):\n",
    "\n",
    "    for elt in string:\n",
    "        print(elt)\n",
    " \n",
    "    \n",
    "cesar_cipher(\"what a string\",3)"
   ]
  },
  {
   "cell_type": "code",
   "execution_count": 138,
   "id": "3a8119b6",
   "metadata": {},
   "outputs": [
    {
     "name": "stdout",
     "output_type": "stream",
     "text": [
      "w\n",
      "28\n",
      "h\n",
      "28\n",
      "a\n",
      "28\n",
      "t\n",
      "28\n",
      " \n",
      "28\n",
      "a\n",
      "28\n",
      " \n",
      "28\n",
      "s\n",
      "28\n",
      "t\n",
      "28\n",
      "r\n",
      "28\n",
      "i\n",
      "28\n",
      "n\n",
      "28\n",
      "g\n",
      "28\n"
     ]
    }
   ],
   "source": [
    "dictionnary= {\"a\":1,\"b\":2,\"c\":3,\"d\":4,\"e\":5,\"f\":6,\"g\":7,\"h\":8,\"i\":9,\"j\":10,\"k\":11,\"l\":12,\"m\":13,\"n\":14,\"o\":15,\"p\":16,\"q\":17,\"r\":18,\"s\":19,\"t\":20,\"u\":21,\"v\":22,\"w\":23,\"x\":24,\"y\":25,\"z\":26} \n",
    "def cesar_cipher(string,cle):\n",
    "    \n",
    "    for element in string:\n",
    "        #newLetter= ord(element) + cle\n",
    "        print(element)\n",
    "        #print(newLetter)\n",
    "       #print(chr(newLetter))\n",
    "        number = (dictionnary['w']) + cle\n",
    "        print(number)\n",
    "\n",
    "cesar_cipher(\"what a string\",5)\n",
    "\n",
    "\n",
    "#W=>B\n",
    "\n",
    "#prend la premeire lettre"
   ]
  },
  {
   "cell_type": "code",
   "execution_count": null,
   "id": "b4338048",
   "metadata": {},
   "outputs": [],
   "source": []
  }
 ],
 "metadata": {
  "kernelspec": {
   "display_name": "Python 3 (ipykernel)",
   "language": "python",
   "name": "python3"
  },
  "language_info": {
   "codemirror_mode": {
    "name": "ipython",
    "version": 3
   },
   "file_extension": ".py",
   "mimetype": "text/x-python",
   "name": "python",
   "nbconvert_exporter": "python",
   "pygments_lexer": "ipython3",
   "version": "3.9.12"
  }
 },
 "nbformat": 4,
 "nbformat_minor": 5
}
